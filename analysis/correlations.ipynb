{
 "cells": [
  {
   "cell_type": "code",
   "execution_count": null,
   "metadata": {},
   "outputs": [],
   "source": [
    "import joblib\n",
    "import seaborn as sns\n",
    "import numpy as np\n",
    "import pandas as pd\n",
    "import matplotlib.pyplot as plt\n",
    "import matplotlib.patches as mpatches"
   ]
  },
  {
   "cell_type": "code",
   "execution_count": null,
   "metadata": {},
   "outputs": [],
   "source": [
    "title_map = {\n",
    "    'BS': 'Baseline',\n",
    "    'ER-A': 'ER + Att',\n",
    "    'ER-R': 'ER + AttR',\n",
    "    'ER-IxG': 'ER + IxG',\n",
    "    'ER-C-A': 'ER-C + Att',\n",
    "    'ER-C-R': 'ER-C + AttR',\n",
    "    'ER-C-IxG': 'ER-C + IxG'\n",
    "}\n",
    "\n",
    "techniques_map = {\n",
    "    'attentions': 'Att',\n",
    "    'rollout': 'AttR',\n",
    "    'IxG': 'IxG',\n",
    "    'alti_aggregated': 'ALTI',\n",
    "    'decompx': 'DX',\n",
    "    'decompx_classifier': 'DX-C',\n",
    "}"
   ]
  },
  {
   "cell_type": "markdown",
   "metadata": {
    "jp-MarkdownHeadingCollapsed": true
   },
   "source": [
    "### Approaches"
   ]
  },
  {
   "cell_type": "code",
   "execution_count": null,
   "metadata": {},
   "outputs": [],
   "source": [
    "def load_data_approaches_averages(corr_fn, ds_name, techniques_to_plot):\n",
    "    \n",
    "    data = joblib.load(f\"correlations_{ds_name}_{corr_fn}.joblib\")\n",
    "    data_approaches = data['approaches']\n",
    "    techniques = data['techniques'].keys()\n",
    "\n",
    "    average_correlations = {}\n",
    "    for k, v in data_approaches.items():\n",
    "        average_correlations[k] = {}\n",
    "        for i, technique_1 in enumerate(techniques_to_plot):\n",
    "            average_correlations[k][technique_1] = {}\n",
    "            for technique_2 in techniques:\n",
    "                if technique_2 in data_approaches[k][technique_1]:\n",
    "                    average_correlations[k][technique_1][technique_2] = np.mean(data_approaches[k][technique_1][technique_2])\n",
    "\n",
    "    return average_correlations"
   ]
  },
  {
   "cell_type": "code",
   "execution_count": null,
   "metadata": {},
   "outputs": [],
   "source": [
    "for corr_fn, ds_name in [('kendall', 'sst_dev'), ('kendall', 'movies'), ('kendall', 'yelp-50')]:\n",
    "\n",
    "    # Load data\n",
    "    techniques_to_plot = ['attentions', 'rollout', 'IxG']\n",
    "    \n",
    "    approaches_correlations = load_data_approaches_averages(corr_fn, ds_name, techniques_to_plot)\n",
    "\n",
    "    techniques = list(approaches_correlations['BS'].keys())\n",
    "    approaches = list(approaches_correlations.keys())\n",
    "    \n",
    "    # Plot\n",
    "    sns.set_context(\"paper\", rc={\"font.size\": 16, \"axes.titlesize\": 14, \"axes.labelsize\": 14, \"xtick.labelsize\": 14, \"ytick.labelsize\": 14})\n",
    "    \n",
    "    fig, axs = plt.subplots(1, len(approaches), figsize=(10 if ds_name == \"movies\" else 17, 4 if ds_name == 'movies' else 8), sharey=False)\n",
    "    for i, (k, v) in enumerate(approaches_correlations.items()):\n",
    "        df = pd.DataFrame(v)\n",
    "        df = 100 * df\n",
    "        df = df.T\n",
    "        hm = sns.heatmap(\n",
    "            df,\n",
    "            annot=True,\n",
    "            cmap='Blues',\n",
    "            square=True,\n",
    "            ax=axs[i],\n",
    "            vmin=-10,\n",
    "            vmax=100,\n",
    "            cbar=False,\n",
    "            fmt=\".0f\",\n",
    "            linewidth=0.01,\n",
    "            annot_kws={\"size\": 12}\n",
    "        )\n",
    "        axs[i].set_title(title_map[k])\n",
    "    \n",
    "        hm.set_xticklabels([techniques_map[label.get_text()] for label in hm.get_xticklabels()])\n",
    "        if i == 0:\n",
    "            hm.set_yticklabels([techniques_map[label.get_text()] for label in hm.get_yticklabels()])\n",
    "        else:\n",
    "            hm.set_yticklabels([])\n",
    "    \n",
    "    #fig.tight_layout()\n",
    "    #fig.savefig(f\"../figures/sa_attributions_correlations_techniques_{corr_fn}_{ds_name}.pdf\", dpi=500, bbox_inches='tight')"
   ]
  },
  {
   "cell_type": "markdown",
   "metadata": {},
   "source": [
    "### Techniques"
   ]
  },
  {
   "cell_type": "code",
   "execution_count": null,
   "metadata": {},
   "outputs": [],
   "source": [
    "corr_fn = 'kendall'"
   ]
  },
  {
   "cell_type": "code",
   "execution_count": null,
   "metadata": {},
   "outputs": [],
   "source": [
    "hatches = {'ER-A': '//', 'ER-R': '\\\\\\\\', 'ER-IxG': '--', 'ER-C-A': '..', 'ER-C-R': 'xx', 'ER-C-IxG': 'oo'}\n",
    "colors = sns.color_palette(\"colorblind\")[:10]"
   ]
  },
  {
   "cell_type": "code",
   "execution_count": null,
   "metadata": {},
   "outputs": [],
   "source": [
    "def load_data_techniques(corr_fn, ds_name):\n",
    "    data = joblib.load(f\"correlations_{ds_name}_{corr_fn}.joblib\")\n",
    "\n",
    "    data_techniques = data['techniques']\n",
    "\n",
    "    return data_techniques"
   ]
  },
  {
   "cell_type": "markdown",
   "metadata": {},
   "source": [
    "**Main Text**"
   ]
  },
  {
   "cell_type": "code",
   "execution_count": null,
   "metadata": {},
   "outputs": [],
   "source": [
    "sns.set_style('darkgrid')\n",
    "\n",
    "approaches_to_plot = ['ER-A', 'ER-C-A', 'ER-C-R', 'ER-C-IxG']\n",
    "techniques_to_plot_summarized = ['attentions', 'alti_aggregated', 'decompx_classifier']\n",
    "\n",
    "ds_name = 'yelp-50'\n",
    "data_techniques = load_data_techniques(corr_fn, ds_name)\n",
    "\n",
    "techniques = list(data_techniques['attentions'].keys())\n",
    "approaches = list(data_techniques.keys())\n",
    "\n",
    "fig, axs = plt.subplots(len(approaches_to_plot), len(techniques_to_plot_summarized), figsize=(9, 6), sharey=True, sharex=True)\n",
    "for i, approach in enumerate(approaches_to_plot):\n",
    "    for j, technique in enumerate(techniques_to_plot_summarized):\n",
    "        kwargs = {'ax': axs[i,j], 'alpha': 0.6, 'bins': 10}\n",
    "        sns.histplot(data_techniques[technique]['BS']['BS'], color='gray', **kwargs)\n",
    "        sns.histplot(data_techniques[technique]['BS'][approach], color=colors[i], **kwargs)\n",
    "\n",
    "        # Get patches\n",
    "        patches = axs[i, j].patches\n",
    "        \n",
    "        # Apply the approach hatch pattern for the second histogram\n",
    "        for bar in patches[len(patches)//2:]:\n",
    "            bar.set_hatch(hatches[approach])\n",
    "\n",
    "        # Set title and labels\n",
    "        axs[0, j].set_title(techniques_map[technique])\n",
    "        axs[-1, j].set_xlabel(\"Correlation\")\n",
    "\n",
    "\n",
    "legend_entries = [\n",
    "    mpatches.Patch(facecolor='gray', edgecolor='white', label='BS vs BS'),\n",
    "    mpatches.Patch(facecolor=colors[0], edgecolor='white', hatch=hatches['ER-A'], label='BS vs ER + Att'),\n",
    "    mpatches.Patch(facecolor=colors[1], edgecolor='white', hatch=hatches['ER-C-A'], label='BS vs ER-C + Att'),\n",
    "    mpatches.Patch(facecolor=colors[2], edgecolor='white', hatch=hatches['ER-C-R'], label='BS vs ER-C + AttR'),\n",
    "    mpatches.Patch(facecolor=colors[3], edgecolor='white', hatch=hatches['ER-C-IxG'], label='BS vs ER-C + IxG')\n",
    "]\n",
    "\n",
    "plt.legend(handles=legend_entries, loc='upper center', bbox_to_anchor=(-0.8, -0.6), ncol=3, fontsize=14, frameon=False)\n",
    "\n",
    "#fig.savefig(f\"../figures/sa_attributions_correlations_approaches_{ds_name}_{corr_fn}.pdf\", dpi=72, bbox_inches='tight')"
   ]
  },
  {
   "cell_type": "markdown",
   "metadata": {},
   "source": [
    "**Appendix**"
   ]
  },
  {
   "cell_type": "code",
   "execution_count": null,
   "metadata": {},
   "outputs": [],
   "source": [
    "sns.set_style('darkgrid')\n",
    "\n",
    "approaches_to_plot = ['ER-A', 'ER-R', 'ER-IxG', 'ER-C-A', 'ER-C-R', 'ER-C-IxG']\n",
    "techniques_to_plot = ['attentions', 'rollout', 'IxG', 'alti_aggregated', 'decompx', 'decompx_classifier']\n",
    "\n",
    "# Load data\n",
    "corr_fn = 'kendall'\n",
    "ds_name = 'sst-dev'\n",
    "data_techniques = load_data_techniques(corr_fn, 'sst_dev')\n",
    "\n",
    "# Plot\n",
    "fig, axs = plt.subplots(len(approaches_to_plot), len(techniques_to_plot), figsize=(2.5*len(techniques_to_plot), 8), sharey=True, sharex=True)\n",
    "for i, approach in enumerate(approaches_to_plot):\n",
    "    for j, technique in enumerate(techniques_to_plot):\n",
    "        kwargs = {'ax': axs[i,j], 'alpha': 0.6, 'bins': 10}\n",
    "        sns.histplot(data_techniques[technique]['BS']['BS'], color='gray', **kwargs)\n",
    "        sns.histplot(data_techniques[technique]['BS'][approach], color=colors[i], **kwargs)\n",
    "\n",
    "        # Access the bars for the current axis\n",
    "        patches = axs[i, j].patches\n",
    "        \n",
    "        # Apply the approach specific pattern\n",
    "        for bar in patches[len(patches)//2:]:\n",
    "            bar.set_hatch(hatches[approach])\n",
    "\n",
    "        # Set title and labels\n",
    "        axs[0, j].set_title(techniques_map[technique])\n",
    "        axs[-1, j].set_xlabel(\"Correlation\")\n",
    "\n",
    "        # Add correlation text\n",
    "        corr_text_kwargs = {'transform': axs[i,j].transAxes, 'fontsize': 8, 'verticalalignment': 'top'}\n",
    "        axs[i,j].text(0.025, 0.95, f\"BS: {np.mean(data_techniques[technique]['BS']['BS']):.2f}\", bbox=dict(facecolor='white', alpha=0.0), **corr_text_kwargs)\n",
    "        axs[i,j].text(0.025, 0.75, f\"ER: {np.mean(data_techniques[technique]['BS'][approach]):.2f}\", bbox=dict(facecolor='white', alpha=0.0), **corr_text_kwargs)\n",
    "\n",
    "#fig.savefig(f\"../figures/sa_attributions_correlations_approaches_{ds_name}_{corr_fn}_all.pdf\", dpi=72, bbox_inches='tight')"
   ]
  },
  {
   "cell_type": "code",
   "execution_count": null,
   "metadata": {},
   "outputs": [],
   "source": [
    "approaches_to_plot = ['ER-A', 'ER-R', 'ER-IxG', 'ER-C-A', 'ER-C-R', 'ER-C-IxG']\n",
    "corr_fn = 'kendall'\n",
    "\n",
    "for ds_name in ['movies', 'yelp-50']:\n",
    "    print(ds_name)\n",
    "\n",
    "    if ds_name == 'movies':\n",
    "        techniques_to_plot = ['attentions', 'rollout', 'IxG']\n",
    "    elif ds_name == 'yelp-50':\n",
    "        techniques_to_plot = ['attentions', 'rollout', 'IxG', 'alti_aggregated', 'decompx', 'decompx_classifier']\n",
    "    \n",
    "    # Load data\n",
    "    data_techniques = load_data_techniques(corr_fn, ds_name)\n",
    "\n",
    "    # Plot\n",
    "    fig, axs = plt.subplots(len(approaches_to_plot), len(techniques_to_plot), figsize=(2.5*len(techniques_to_plot), 8), sharey=True, sharex=True)\n",
    "    for i, approach in enumerate(approaches_to_plot):\n",
    "        for j, technique in enumerate(techniques_to_plot):\n",
    "            kwargs = {'ax': axs[i,j], 'alpha': 0.6, 'bins': 10}\n",
    "            sns.histplot(data_techniques[technique]['BS']['BS'], color='gray', **kwargs)\n",
    "            sns.histplot(data_techniques[technique]['BS'][approach], color=colors[i], **kwargs)\n",
    "    \n",
    "            # Get patches\n",
    "            patches = axs[i, j].patches\n",
    "            \n",
    "            # Apply the approach hatch pattern for the second histogram\n",
    "            for bar in patches[len(patches)//2:]:\n",
    "                bar.set_hatch(hatches[approach])\n",
    "    \n",
    "            # Set title and labels\n",
    "            axs[0, j].set_title(techniques_map[technique])\n",
    "            axs[-1, j].set_xlabel(\"Correlation\")\n",
    "    \n",
    "            # Add correlation text\n",
    "            corr_text_kwargs = {'transform': axs[i,j].transAxes, 'fontsize': 8, 'verticalalignment': 'top'}\n",
    "            axs[i,j].text(0.025, 0.95, f\"BS: {np.mean(data_techniques[technique]['BS']['BS']):.2f}\", bbox=dict(facecolor='white', alpha=0.0), **corr_text_kwargs)\n",
    "            axs[i,j].text(0.025, 0.75, f\"ER: {np.mean(data_techniques[technique]['BS'][approach]):.2f}\", bbox=dict(facecolor='white', alpha=0.0), **corr_text_kwargs)\n",
    "\n",
    "    # Add legend\n",
    "    if ds_name == 'yelp-50':\n",
    "        legend_entries = [\n",
    "            mpatches.Patch(facecolor='gray', edgecolor='white', label='BS vs BS'),\n",
    "            mpatches.Patch(facecolor=colors[0], edgecolor='white', hatch=hatches['ER-A'], label='BS vs ER + Att'),\n",
    "            mpatches.Patch(facecolor=colors[1], edgecolor='white', hatch=hatches['ER-R'], label='BS vs ER + AttR'),\n",
    "            mpatches.Patch(facecolor=colors[2], edgecolor='white', hatch=hatches['ER-IxG'], label='BS vs ER + IxG'),\n",
    "            mpatches.Patch(facecolor=colors[3], edgecolor='white', hatch=hatches['ER-C-A'], label='BS vs ER-C + Att'),\n",
    "            mpatches.Patch(facecolor=colors[4], edgecolor='white', hatch=hatches['ER-C-R'], label='BS vs ER-C + AttR'),\n",
    "            mpatches.Patch(facecolor=colors[5], edgecolor='white', hatch=hatches['ER-C-IxG'], label='BS vs ER-C + IxG')\n",
    "        ]\n",
    "    \n",
    "        plt.legend(handles=legend_entries, loc='upper center', bbox_to_anchor=(-2.5, -0.6), ncol=4, fontsize=14, frameon=False)\n",
    "            \n",
    "    \n",
    "    #fig.savefig(f\"../figures/sa_attributions_correlations_approaches_{ds_name}_{corr_fn}_all.pdf\", dpi=72, bbox_inches='tight')"
   ]
  },
  {
   "cell_type": "code",
   "execution_count": null,
   "metadata": {},
   "outputs": [],
   "source": []
  }
 ],
 "metadata": {
  "kernelspec": {
   "display_name": "er_env",
   "language": "python",
   "name": "python3"
  },
  "language_info": {
   "codemirror_mode": {
    "name": "ipython",
    "version": 3
   },
   "file_extension": ".py",
   "mimetype": "text/x-python",
   "name": "python",
   "nbconvert_exporter": "python",
   "pygments_lexer": "ipython3",
   "version": "3.9.18"
  }
 },
 "nbformat": 4,
 "nbformat_minor": 4
}
